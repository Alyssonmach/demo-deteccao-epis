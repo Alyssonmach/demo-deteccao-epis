{
 "cells": [
  {
   "cell_type": "markdown",
   "metadata": {},
   "source": [
    "# Pré-processamento dos Dados\n",
    "\n",
    "> Link para acessar o conjunto de dados: [Medical Personal Protective Equipment Images](https://www.kaggle.com/datasets/skaarface/medical-personal-protective-equipment-images)"
   ]
  },
  {
   "cell_type": "markdown",
   "metadata": {},
   "source": [
    "O ```CPPE - 5``` (\"*Medical Personal Protective Equipment Images*\") é um novo conjunto de dados com o objetivo de permitir o estudo da categorização por imagens de equipamentos de proteção individual médico, o que não é possível com outros conjuntos de dados populares que se concentram em categorias de nível amplo."
   ]
  },
  {
   "cell_type": "markdown",
   "metadata": {},
   "source": [
    "### Importação dos Pacotes Utilitários"
   ]
  },
  {
   "cell_type": "code",
   "execution_count": 1,
   "metadata": {},
   "outputs": [],
   "source": [
    "import matplotlib.pyplot as plt\n",
    "import numpy as np\n",
    "import shutil\n",
    "import json\n",
    "import cv2\n",
    "import os"
   ]
  },
  {
   "cell_type": "markdown",
   "metadata": {},
   "source": [
    "### Organização das Pastas dos Arquivos"
   ]
  },
  {
   "cell_type": "code",
   "execution_count": 20,
   "metadata": {},
   "outputs": [],
   "source": [
    "# criando pastas para organizar o conjunto de dados no formato aceito pela YOLO\n",
    "shutil.unpack_archive('data.zip')\n",
    "os.mkdir('formatted-dataset')\n",
    "os.mkdir('formatted-dataset/images')\n",
    "os.mkdir('formatted-dataset/images/train')\n",
    "os.mkdir('formatted-dataset/images/val')\n",
    "os.mkdir('formatted-dataset/labels')\n",
    "os.mkdir('formatted-dataset/labels/train')\n",
    "os.mkdir('formatted-dataset/labels/val')"
   ]
  },
  {
   "cell_type": "code",
   "execution_count": 21,
   "metadata": {},
   "outputs": [],
   "source": [
    "# movendo as imagens do conjunto de dados para as novas pastas criadas\n",
    "for i in range(0, 1029):\n",
    "    if (i + 1) <= 1000:\n",
    "        shutil.move(src = f'Dataset/images/{i+1}.png', dst = 'formatted-dataset/images/train') \n",
    "    else:\n",
    "        shutil.move(src = f'Dataset/images/{i+1}.png', dst = 'formatted-dataset/images/val')"
   ]
  },
  {
   "cell_type": "markdown",
   "metadata": {},
   "source": [
    "### Organizando e Pré-processando a estrutura dos Dados"
   ]
  },
  {
   "cell_type": "code",
   "execution_count": null,
   "metadata": {},
   "outputs": [],
   "source": [
    "# carregando os arquivos JSON com as informações e rotulações da base de dados\n",
    "with open('Dataset/annotations/train.json') as json_file:\n",
    "    train = json.load(json_file)\n",
    "with open('Dataset/annotations/test.json') as json_file:\n",
    "    test = json.load(json_file)"
   ]
  },
  {
   "cell_type": "code",
   "execution_count": null,
   "metadata": {},
   "outputs": [],
   "source": [
    "def normalize_bbox(dict_ref, index):\n",
    "    '''\n",
    "    normaliza os valores das coordenadas de caixas delimitadoras\n",
    "    \n",
    "    Args:\n",
    "        dict_ref (dict) --> dicionário com as informações da base de dados\n",
    "        index (int) --> valor do índice do dicionário a ser iterado \n",
    "    '''\n",
    "    \n",
    "    image_id = dict_ref['annotations'][index]['image_id']\n",
    "    if image_id > 1000: image_id -= 1000\n",
    "\n",
    "    #padrão (x_min, y_min, width, height) -> (x_center, y_center, width/2, height/2)\n",
    "    x_center = dict_ref['annotations'][index]['bbox'][0] + dict_ref['annotations'][index]['bbox'][2]/2\n",
    "    y_center = dict_ref['annotations'][index]['bbox'][1] + dict_ref['annotations'][index]['bbox'][3]/2\n",
    "    dict_ref['annotations'][index]['bbox'][0] = x_center\n",
    "    dict_ref['annotations'][index]['bbox'][1] = y_center\n",
    " \n",
    "    dict_ref['annotations'][index]['bbox'][0] /= dict_ref['images'][image_id - 1]['width']\n",
    "    dict_ref['annotations'][index]['bbox'][1] /= dict_ref['images'][image_id - 1]['height']\n",
    "    dict_ref['annotations'][index]['bbox'][2] /= dict_ref['images'][image_id - 1]['width']\n",
    "    dict_ref['annotations'][index]['bbox'][3] /= dict_ref['images'][image_id - 1]['height']"
   ]
  },
  {
   "cell_type": "code",
   "execution_count": 22,
   "metadata": {},
   "outputs": [],
   "source": [
    "# normalizando as caixas delimitadoras para o padrão aceito pela YOLO\n",
    "for i in range(0, len(train['annotations'])):\n",
    "    normalize_bbox(dict_ref = train, index = i)\n",
    "for i in range(0, len(test['annotations'])):\n",
    "    normalize_bbox(dict_ref = test, index = i)"
   ]
  },
  {
   "cell_type": "code",
   "execution_count": 23,
   "metadata": {},
   "outputs": [],
   "source": [
    "def make_labels(dict_ref, path_dir):\n",
    "    '''\n",
    "    cria arquivos txt com os rótulos para a rede de detecção\n",
    "\n",
    "    Args:\n",
    "        dict_ref (dict) --> dicionário com as imformações do conjunt0 de dados\n",
    "    '''\n",
    "\n",
    "    for i in range(0, len(dict_ref['annotations'])):\n",
    "        value = str(dict_ref['annotations'][i]['category_id'] - 1) + ' '\n",
    "        value += str(dict_ref['annotations'][i]['bbox'][0]) + ' ' \n",
    "        value += str(dict_ref['annotations'][i]['bbox'][1]) + ' '\n",
    "        value += str(dict_ref['annotations'][i]['bbox'][2]) + ' '\n",
    "        value += str(dict_ref['annotations'][i]['bbox'][3])\n",
    "\n",
    "        image_id = dict_ref['annotations'][i]['image_id']\n",
    "        with open(f'{path_dir}{image_id}.txt', 'a') as f:\n",
    "            f.write(value + '\\n')"
   ]
  },
  {
   "cell_type": "code",
   "execution_count": null,
   "metadata": {},
   "outputs": [],
   "source": [
    "# criando arquivos txt com as coordenadas das caixas delimitadoras das imagens\n",
    "make_labels(dict_ref = train, path_dir = 'formatted-dataset/labels/train/')\n",
    "make_labels(dict_ref = test, path_dir = 'formatted-dataset/labels/val/')"
   ]
  }
 ],
 "metadata": {
  "kernelspec": {
   "display_name": "Python 3.8.10 ('base')",
   "language": "python",
   "name": "python3"
  },
  "language_info": {
   "codemirror_mode": {
    "name": "ipython",
    "version": 3
   },
   "file_extension": ".py",
   "mimetype": "text/x-python",
   "name": "python",
   "nbconvert_exporter": "python",
   "pygments_lexer": "ipython3",
   "version": "3.8.10"
  },
  "orig_nbformat": 4,
  "vscode": {
   "interpreter": {
    "hash": "efc8d9695810fe3585b36c89909e770e9664819a06c5f0b2cd87a4a705242f97"
   }
  }
 },
 "nbformat": 4,
 "nbformat_minor": 2
}
